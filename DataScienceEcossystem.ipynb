{
 "cells": [
  {
   "cell_type": "markdown",
   "id": "1bf1fbd9-de69-421a-ae53-47dc2012496d",
   "metadata": {},
   "source": [
    "# Data Science Tools and Ecossystem"
   ]
  },
  {
   "cell_type": "markdown",
   "id": "59bfbca9-92fa-4f14-a3ae-82bebb25bb61",
   "metadata": {},
   "source": [
    "In this notebook, Data Science Tools and Ecosystem are summarized."
   ]
  },
  {
   "cell_type": "markdown",
   "id": "7697f276-0401-4fd1-91bf-ed597efcf589",
   "metadata": {},
   "source": [
    "### Commonly Used Data Science Languages\r\n",
    "\r\n",
    "1. **Python**\r\n",
    "2. **R**\r\n",
    "3. **SQL**\r\n"
   ]
  },
  {
   "cell_type": "markdown",
   "id": "4225ab6d-47f4-4167-9ee3-9138c75250c7",
   "metadata": {},
   "source": [
    "### Commonly Used Data Science Libraries\n",
    "\n",
    "Some of the commonly used libraries used by Data Scientists include:\n",
    "\n",
    "1. **NumPy**\n",
    "2. **pandas**\n",
    "3. **scikit-learn**\n"
   ]
  },
  {
   "cell_type": "markdown",
   "id": "ae9c55f6-0113-4cc6-95eb-36452fc330bc",
   "metadata": {},
   "source": [
    "### Data Science Tools\n",
    "\n",
    "| Data Science Tools         |\n",
    "|----------------------------|\n",
    "| Jupyter Notebook           |\n",
    "| RStudio                    |\n",
    "| Apache Zeppelin            |\n"
   ]
  },
  {
   "cell_type": "markdown",
   "id": "60c84522-eedb-44b3-9a97-ea5f6ccac3d3",
   "metadata": {},
   "source": [
    "### Arithmetic Expression Examples\n",
    "\n",
    "Below are a few examples of evaluating arithmetic expressions in Python.\n"
   ]
  },
  {
   "cell_type": "code",
   "execution_count": 11,
   "id": "ed1bef7f-68fe-4058-b874-9ec184a68f3c",
   "metadata": {},
   "outputs": [
    {
     "data": {
      "text/plain": [
       "17"
      ]
     },
     "execution_count": 11,
     "metadata": {},
     "output_type": "execute_result"
    }
   ],
   "source": [
    "# This is a simple arithmetic expression to multiply then add integers.\n",
    "(3 * 4) + 5\n"
   ]
  },
  {
   "cell_type": "code",
   "execution_count": 13,
   "id": "9e58167b-8f28-4be0-9443-bd50a7acf8d8",
   "metadata": {},
   "outputs": [
    {
     "data": {
      "text/plain": [
       "3.3333333333333335"
      ]
     },
     "execution_count": 13,
     "metadata": {},
     "output_type": "execute_result"
    }
   ],
   "source": [
    "# This will convert 200 minutes to hours by dividing by 60.\n",
    "200 / 60\n"
   ]
  },
  {
   "cell_type": "markdown",
   "id": "b8f3271e-7787-4ba4-a628-197e3a1787ce",
   "metadata": {},
   "source": [
    "**Objectives:**\r\n",
    "\r\n",
    "- List popular languages for Data Science\r\n",
    "- Identify commonly used data science libraries\r\n",
    "- Understand key data science tools\r\n",
    "- Evaluate arithmetic expressions in Python\r\n",
    "- Convert units using Python expressions\r\n"
   ]
  },
  {
   "cell_type": "markdown",
   "id": "21442bf0-8a33-46b8-ad0d-b7d5f32cb6c9",
   "metadata": {},
   "source": [
    "## Author\n",
    "\n",
    "Simao Rafique\n"
   ]
  },
  {
   "cell_type": "code",
   "execution_count": null,
   "id": "a199c321-ce6d-4a8b-88e3-f84ab48ea4a1",
   "metadata": {},
   "outputs": [],
   "source": []
  }
 ],
 "metadata": {
  "kernelspec": {
   "display_name": "Python 3 (ipykernel)",
   "language": "python",
   "name": "python3"
  },
  "language_info": {
   "codemirror_mode": {
    "name": "ipython",
    "version": 3
   },
   "file_extension": ".py",
   "mimetype": "text/x-python",
   "name": "python",
   "nbconvert_exporter": "python",
   "pygments_lexer": "ipython3",
   "version": "3.12.4"
  }
 },
 "nbformat": 4,
 "nbformat_minor": 5
}
